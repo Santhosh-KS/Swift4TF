{
  "nbformat": 4,
  "nbformat_minor": 0,
  "metadata": {
    "colab": {
      "name": "Swift4TF_Intro.ipynb",
      "version": "0.3.2",
      "provenance": [],
      "collapsed_sections": []
    },
    "kernelspec": {
      "display_name": "Swift",
      "language": "swift",
      "name": "swift"
    },
    "accelerator": "GPU"
  },
  "cells": [
    {
      "cell_type": "markdown",
      "metadata": {
        "id": "yaRlEIvpBamB",
        "colab_type": "text"
      },
      "source": [
        "\n",
        "Swift for TensorFlow is a next generation platform for deep learning and differentiable programming.\n",
        "\n",
        "In general Swift for TF tries to resolve the drawbacks of Python\n",
        "\n",
        "*   Performance\n",
        "*   Concurrency\n",
        "*   Deployment\n",
        "*   Custom Ops\n",
        "\n",
        "Swift has many advantages \n",
        "\n",
        "*   First-class autodiff\n",
        "*   Next-generation APIs\n",
        "*   High-quality tooling\n",
        "*   Python Integerability\n",
        "*   Performance of graphs + flexibility  of Eager execution\n",
        "\n"
      ]
    },
    {
      "cell_type": "markdown",
      "metadata": {
        "id": "IRoey45xwv0w",
        "colab_type": "text"
      },
      "source": [
        "# SWIFT"
      ]
    },
    {
      "cell_type": "markdown",
      "metadata": {
        "id": "OihtZA6QhEZS",
        "colab_type": "text"
      },
      "source": [
        "## Constants and Variables"
      ]
    },
    {
      "cell_type": "code",
      "metadata": {
        "id": "p_pjyevTdE18",
        "colab_type": "code",
        "colab": {}
      },
      "source": [
        "let x = 2.0 //constant\n",
        "var y = 2   //variable\n",
        "\n",
        "\n",
        "//define types inline \n",
        "let w:Double = 2.0\n",
        "var z:Float = 3.0"
      ],
      "execution_count": 0,
      "outputs": []
    },
    {
      "cell_type": "code",
      "metadata": {
        "id": "j-W3HyT9ZBOF",
        "colab_type": "code",
        "outputId": "0dc348d0-20f7-4947-a5c9-1a3de3c49bcd",
        "colab": {
          "base_uri": "https://localhost:8080/",
          "height": 34
        }
      },
      "source": [
        "\"I have \\(y) apples.\""
      ],
      "execution_count": 2,
      "outputs": [
        {
          "output_type": "execute_result",
          "data": {
            "text/plain": [
              "\"I have 2 apples.\"\n"
            ]
          },
          "metadata": {
            "tags": []
          },
          "execution_count": 2
        }
      ]
    },
    {
      "cell_type": "markdown",
      "metadata": {
        "id": "yTka2hG9lM_D",
        "colab_type": "text"
      },
      "source": [
        "## Arrays and Dictionaries \n",
        "\n",
        "Initialize arrays and dictionaries"
      ]
    },
    {
      "cell_type": "code",
      "metadata": {
        "id": "BI46PGfQdE2I",
        "colab_type": "code",
        "colab": {}
      },
      "source": [
        "var numbersArry = [1, 2]\n",
        "var numbersDict = [\"one\":1, \"two\":2]"
      ],
      "execution_count": 0,
      "outputs": []
    },
    {
      "cell_type": "markdown",
      "metadata": {
        "id": "4l-kIpID_x9N",
        "colab_type": "text"
      },
      "source": [
        "You can also define empty arrays and dictionaries"
      ]
    },
    {
      "cell_type": "code",
      "metadata": {
        "id": "pZ0hFNzXdE2M",
        "colab_type": "code",
        "outputId": "20555aeb-98c4-48f3-be8c-cb8964443ae9",
        "colab": {
          "base_uri": "https://localhost:8080/",
          "height": 85
        }
      },
      "source": [
        "var langs = [String]()\n",
        "\n",
        "langs.append(\"Python\")\n",
        "langs.append(\"Csharp\")\n",
        "langs.append(\"Buisct\") //not sure if that exists \n",
        "langs"
      ],
      "execution_count": 4,
      "outputs": [
        {
          "output_type": "execute_result",
          "data": {
            "text/plain": [
              "▿ 3 elements\n",
              "  - 0 : \"Python\"\n",
              "  - 1 : \"Csharp\"\n",
              "  - 2 : \"Buisct\"\n"
            ]
          },
          "metadata": {
            "tags": []
          },
          "execution_count": 4
        }
      ]
    },
    {
      "cell_type": "code",
      "metadata": {
        "id": "5anS2uUesaiV",
        "colab_type": "code",
        "outputId": "e7788e68-de07-4f10-9123-b738afaa1761",
        "colab": {
          "base_uri": "https://localhost:8080/",
          "height": 136
        }
      },
      "source": [
        "var gpaStudent  = [String:Float]()\n",
        "\n",
        "gpaStudent[\"Zaid\"] = 3.8\n",
        "gpaStudent[\"Zyan\"] = 3.9\n",
        "gpaStudent"
      ],
      "execution_count": 5,
      "outputs": [
        {
          "output_type": "execute_result",
          "data": {
            "text/plain": [
              "▿ 2 elements\n",
              "  ▿ 0 : 2 elements\n",
              "    - key : \"Zyan\"\n",
              "    - value : 3.9\n",
              "  ▿ 1 : 2 elements\n",
              "    - key : \"Zaid\"\n",
              "    - value : 3.8\n"
            ]
          },
          "metadata": {
            "tags": []
          },
          "execution_count": 5
        }
      ]
    },
    {
      "cell_type": "markdown",
      "metadata": {
        "id": "IcyJIWOqdE2T",
        "colab_type": "text"
      },
      "source": [
        "## Loops"
      ]
    },
    {
      "cell_type": "code",
      "metadata": {
        "id": "QhcmCbQydE2U",
        "colab_type": "code",
        "outputId": "cb692d1a-9779-44a4-a858-aeeea5526455",
        "colab": {
          "base_uri": "https://localhost:8080/",
          "height": 51
        }
      },
      "source": [
        "let numbers = [1, 2, 3, 4]\n",
        "\n",
        "for x in numbers {\n",
        "  if x > 2{\n",
        "    print(\"\\(x) > 2\")\n",
        "  }\n",
        "}"
      ],
      "execution_count": 6,
      "outputs": [
        {
          "output_type": "stream",
          "text": [
            "3 > 2\r\n",
            "4 > 2\r\n"
          ],
          "name": "stdout"
        }
      ]
    },
    {
      "cell_type": "code",
      "metadata": {
        "id": "tt54-NuJdE2m",
        "colab_type": "code",
        "outputId": "c9e52bea-f3b2-42cd-c410-7ac4677b282c",
        "colab": {
          "base_uri": "https://localhost:8080/",
          "height": 34
        }
      },
      "source": [
        "var n = 2\n",
        "while n < 100 {\n",
        "    n = n * 2\n",
        "}\n",
        "\n",
        "n"
      ],
      "execution_count": 7,
      "outputs": [
        {
          "output_type": "execute_result",
          "data": {
            "text/plain": [
              "128\n"
            ]
          },
          "metadata": {
            "tags": []
          },
          "execution_count": 7
        }
      ]
    },
    {
      "cell_type": "code",
      "metadata": {
        "id": "LKkJ4co_dE2r",
        "colab_type": "code",
        "outputId": "95e24ea1-e57d-4931-842d-c4fefdf8697f",
        "colab": {
          "base_uri": "https://localhost:8080/",
          "height": 34
        }
      },
      "source": [
        "var total = 0\n",
        "for i in 0...4 {\n",
        "    total += i\n",
        "}\n",
        "\n",
        "total"
      ],
      "execution_count": 8,
      "outputs": [
        {
          "output_type": "execute_result",
          "data": {
            "text/plain": [
              "10\n"
            ]
          },
          "metadata": {
            "tags": []
          },
          "execution_count": 8
        }
      ]
    },
    {
      "cell_type": "markdown",
      "metadata": {
        "id": "W7H3ptGaiEcB",
        "colab_type": "text"
      },
      "source": [
        "## Functions\n",
        "\n",
        "Here we define a function that adds two integers. By using _ we don't have to use the variable names for function calls "
      ]
    },
    {
      "cell_type": "code",
      "metadata": {
        "id": "sgYex6gigH87",
        "colab_type": "code",
        "outputId": "a4da5729-fdea-431e-855e-142e09ebf4ed",
        "colab": {
          "base_uri": "https://localhost:8080/",
          "height": 34
        }
      },
      "source": [
        "func add(_ x: Int , _ y: Int) -> Int{\n",
        "  return x + y\n",
        "}\n",
        "print(add(2, 3))"
      ],
      "execution_count": 9,
      "outputs": [
        {
          "output_type": "stream",
          "text": [
            "5\r\n"
          ],
          "name": "stdout"
        }
      ]
    },
    {
      "cell_type": "markdown",
      "metadata": {
        "id": "aAdSAMNmHGP-",
        "colab_type": "text"
      },
      "source": [
        "You can also add labels to add make the function call more expressive "
      ]
    },
    {
      "cell_type": "code",
      "metadata": {
        "id": "_GmR2pwxHNGq",
        "colab_type": "code",
        "outputId": "cb103108-5fb5-4c6a-a255-c327cd47729e",
        "colab": {
          "base_uri": "https://localhost:8080/",
          "height": 102
        }
      },
      "source": [
        "func range(from start:Int , to end:Int) -> [Int]{\n",
        "  var out = [Int]()\n",
        "  \n",
        "  for num in start...end{\n",
        "    out.append(num)\n",
        "  }\n",
        "  return out\n",
        "}\n",
        "\n",
        "range(from:2, to:5)"
      ],
      "execution_count": 10,
      "outputs": [
        {
          "output_type": "execute_result",
          "data": {
            "text/plain": [
              "▿ 4 elements\n",
              "  - 0 : 2\n",
              "  - 1 : 3\n",
              "  - 2 : 4\n",
              "  - 3 : 5\n"
            ]
          },
          "metadata": {
            "tags": []
          },
          "execution_count": 10
        }
      ]
    },
    {
      "cell_type": "markdown",
      "metadata": {
        "id": "pifd8IZzH4mg",
        "colab_type": "text"
      },
      "source": [
        "You can also return many multiple values from a function"
      ]
    },
    {
      "cell_type": "code",
      "metadata": {
        "id": "wuDe6FtwXP58",
        "colab_type": "code",
        "colab": {}
      },
      "source": [
        "func mean_variance(scores: [Double]) -> (mean: Double, variance: Double){\n",
        "  \n",
        "  var mean: Double = 0\n",
        "  var variance: Double = 0\n",
        "  let count: Double = Double(scores.count)\n",
        "  \n",
        "  for x in scores{\n",
        "    mean += (x/count)\n",
        "  }\n",
        "  \n",
        "  for x in scores{\n",
        "    variance += (x - mean)*(x - mean)/count\n",
        "  }\n",
        "  \n",
        "  return (mean, variance)\n",
        "}"
      ],
      "execution_count": 0,
      "outputs": []
    },
    {
      "cell_type": "code",
      "metadata": {
        "id": "cgCxSLrBaBtV",
        "colab_type": "code",
        "outputId": "053571d1-1f63-462c-900a-62d9fedf1be2",
        "colab": {
          "base_uri": "https://localhost:8080/",
          "height": 68
        }
      },
      "source": [
        "mean_variance(scores: [2.0 , 3.0 , 4.0])"
      ],
      "execution_count": 12,
      "outputs": [
        {
          "output_type": "execute_result",
          "data": {
            "text/plain": [
              "▿ 2 elements\n",
              "  - mean : 3.0\n",
              "  - variance : 0.6666666666666666\n"
            ]
          },
          "metadata": {
            "tags": []
          },
          "execution_count": 12
        }
      ]
    },
    {
      "cell_type": "markdown",
      "metadata": {
        "id": "lLPjckUyOcFk",
        "colab_type": "text"
      },
      "source": [
        "Use `inout` to update the value of a variable and use `&` to pass by reference "
      ]
    },
    {
      "cell_type": "code",
      "metadata": {
        "id": "jF9jqUjxObp7",
        "colab_type": "code",
        "outputId": "4a0b0760-f1ee-41c4-ab6d-79aa663749c4",
        "colab": {
          "base_uri": "https://localhost:8080/",
          "height": 34
        }
      },
      "source": [
        "func increment(_ x:inout Int){\n",
        "  x = x + 1\n",
        "}\n",
        "\n",
        "var x:Int = 0\n",
        "increment(&x)\n",
        "\n",
        "print(x)"
      ],
      "execution_count": 13,
      "outputs": [
        {
          "output_type": "stream",
          "text": [
            "1\r\n"
          ],
          "name": "stdout"
        }
      ]
    },
    {
      "cell_type": "markdown",
      "metadata": {
        "id": "BfV1d5HpdE3K",
        "colab_type": "text"
      },
      "source": [
        "## Classes\n"
      ]
    },
    {
      "cell_type": "code",
      "metadata": {
        "id": "mzyk2iV7atrl",
        "colab_type": "code",
        "colab": {}
      },
      "source": [
        "class Student {\n",
        "  var name: String = \"\"\n",
        "  var age : Int = 0 \n",
        "  \n",
        "  init(name: String, age: Int){\n",
        "    self.name = name\n",
        "    self.age = age \n",
        "  }\n",
        "}"
      ],
      "execution_count": 0,
      "outputs": []
    },
    {
      "cell_type": "code",
      "metadata": {
        "id": "0N8uUPD1bMBo",
        "colab_type": "code",
        "outputId": "7aef63e9-e8db-4810-b9e9-1aaf1ccff2d2",
        "colab": {
          "base_uri": "https://localhost:8080/",
          "height": 34
        }
      },
      "source": [
        "let person = Student(name:\"Zaid\", age: 3)\n",
        "print(person.name)"
      ],
      "execution_count": 15,
      "outputs": [
        {
          "output_type": "stream",
          "text": [
            "Zaid\r\n"
          ],
          "name": "stdout"
        }
      ]
    },
    {
      "cell_type": "markdown",
      "metadata": {
        "id": "2dHlqpeQSfvX",
        "colab_type": "text"
      },
      "source": [
        "## Protocols\n",
        "\n",
        "Protocols are just like interfaces where you can extend them using a class"
      ]
    },
    {
      "cell_type": "code",
      "metadata": {
        "id": "T419e6qcTpYZ",
        "colab_type": "code",
        "colab": {}
      },
      "source": [
        "protocol Person{\n",
        "  func getWage()-> Int\n",
        "}"
      ],
      "execution_count": 0,
      "outputs": []
    },
    {
      "cell_type": "markdown",
      "metadata": {
        "id": "ItBzguGBUpv1",
        "colab_type": "text"
      },
      "source": [
        "Any function that extends the protcol must implement the rules of the protocol"
      ]
    },
    {
      "cell_type": "code",
      "metadata": {
        "id": "Acn4N3MAT6Se",
        "colab_type": "code",
        "colab": {}
      },
      "source": [
        "class Worker:Person {\n",
        "  var name: String = \"\"\n",
        "  var age : Int = 0 \n",
        "  \n",
        "  init(name: String, age: Int){\n",
        "    self.name = name\n",
        "    self.age = age \n",
        "  }\n",
        "  \n",
        "  func getWage() -> Int{\n",
        "    return self.age * 10\n",
        "  }\n",
        "}"
      ],
      "execution_count": 0,
      "outputs": []
    },
    {
      "cell_type": "code",
      "metadata": {
        "id": "Sb_SZiplUO6N",
        "colab_type": "code",
        "outputId": "b2bf8ee9-dfb0-4e4f-adf3-163275c2b289",
        "colab": {
          "base_uri": "https://localhost:8080/",
          "height": 34
        }
      },
      "source": [
        "let p = Worker(name:\"Zaid\", age: 3)\n",
        "p.getWage()"
      ],
      "execution_count": 18,
      "outputs": [
        {
          "output_type": "execute_result",
          "data": {
            "text/plain": [
              "30\n"
            ]
          },
          "metadata": {
            "tags": []
          },
          "execution_count": 18
        }
      ]
    },
    {
      "cell_type": "markdown",
      "metadata": {
        "id": "OuMb_W7SrPXT",
        "colab_type": "text"
      },
      "source": [
        "## Structs and Extensions "
      ]
    },
    {
      "cell_type": "code",
      "metadata": {
        "id": "0fPJQwSArYCI",
        "colab_type": "code",
        "outputId": "256c8801-7cfe-4d8c-995c-6c0b28b411bb",
        "colab": {
          "base_uri": "https://localhost:8080/",
          "height": 85
        }
      },
      "source": [
        "struct Complex{\n",
        "  var real:Float\n",
        "  var imag:Float\n",
        "}\n",
        "\n",
        "Complex(real:3 , imag: 2)"
      ],
      "execution_count": 19,
      "outputs": [
        {
          "output_type": "execute_result",
          "data": {
            "text/plain": [
              "expression produced error: error: /tmp/expr178-0f0ece..swift:1:65: error: use of undeclared type '__lldb_expr_171'\n",
              "Swift._DebuggerSupport.stringForPrintObject(Swift.UnsafePointer<__lldb_expr_171.Complex>(bitPattern: 0x7f747ea34a20)!.pointee)\n",
              "                                                                ^~~~~~~~~~~~~~~\n",
              "\n"
            ]
          },
          "metadata": {
            "tags": []
          },
          "execution_count": 19
        }
      ]
    },
    {
      "cell_type": "markdown",
      "metadata": {
        "id": "IAEOl7xkvVc-",
        "colab_type": "text"
      },
      "source": [
        "You can also extend struct properties"
      ]
    },
    {
      "cell_type": "code",
      "metadata": {
        "id": "ZvztduYtrrcG",
        "colab_type": "code",
        "outputId": "7deefb28-6308-481c-a2fa-828d4164afc2",
        "colab": {
          "base_uri": "https://localhost:8080/",
          "height": 34
        }
      },
      "source": [
        "extension Complex{\n",
        "  func getReal() -> Float{\n",
        "    return real\n",
        "  }\n",
        "}\n",
        "\n",
        "var a = Complex(real:3 , imag: 2)\n",
        "print(a.getReal())"
      ],
      "execution_count": 20,
      "outputs": [
        {
          "output_type": "stream",
          "text": [
            "3.0\r\n"
          ],
          "name": "stdout"
        }
      ]
    },
    {
      "cell_type": "markdown",
      "metadata": {
        "id": "2trelwkSU5j3",
        "colab_type": "text"
      },
      "source": [
        "## Closures \n",
        "\n",
        "According to Swift documentation \"*Closures are self-contained blocks of functionality that can be passed around and used in your code*\". \n",
        "Let us create a closure where we square an integer input"
      ]
    },
    {
      "cell_type": "code",
      "metadata": {
        "id": "3WIjqV_HYWlw",
        "colab_type": "code",
        "outputId": "38bcdaae-9d74-4291-b17d-ed0c32056db3",
        "colab": {
          "base_uri": "https://localhost:8080/",
          "height": 34
        }
      },
      "source": [
        "var squareClosure  = {\n",
        "  (num:Int) -> Int in \n",
        "  return num*num\n",
        "}\n",
        "\n",
        "squareClosure(2)"
      ],
      "execution_count": 21,
      "outputs": [
        {
          "output_type": "execute_result",
          "data": {
            "text/plain": [
              "4\n"
            ]
          },
          "metadata": {
            "tags": []
          },
          "execution_count": 21
        }
      ]
    },
    {
      "cell_type": "markdown",
      "metadata": {
        "id": "BrqDWuebavjX",
        "colab_type": "text"
      },
      "source": [
        "Closures can be used as inputs to functions"
      ]
    },
    {
      "cell_type": "code",
      "metadata": {
        "id": "kwGSDYAHayUY",
        "colab_type": "code",
        "outputId": "e251bf65-8a26-4c12-8c47-f9d661ac3a17",
        "colab": {
          "base_uri": "https://localhost:8080/",
          "height": 85
        }
      },
      "source": [
        "func squareNumbers(numbers:[Int], closure:(_ num:Int) -> Int) -> [Int]{\n",
        "  \n",
        "  var result = [Int]()\n",
        "  \n",
        "  for num in numbers{\n",
        "    result.append(closure(num))\n",
        "  }\n",
        "  \n",
        "  return result\n",
        "}\n",
        "\n",
        "squareNumbers(numbers:[2, 3, 4], closure:squareClosure)"
      ],
      "execution_count": 22,
      "outputs": [
        {
          "output_type": "execute_result",
          "data": {
            "text/plain": [
              "▿ 3 elements\n",
              "  - 0 : 4\n",
              "  - 1 : 9\n",
              "  - 2 : 16\n"
            ]
          },
          "metadata": {
            "tags": []
          },
          "execution_count": 22
        }
      ]
    },
    {
      "cell_type": "markdown",
      "metadata": {
        "id": "TwVeTx3pL1y5",
        "colab_type": "text"
      },
      "source": [
        "`map` accepts closures and applies the closure to a sequence of elements "
      ]
    },
    {
      "cell_type": "code",
      "metadata": {
        "id": "llJzEDAcLXRN",
        "colab_type": "code",
        "outputId": "c7ff502b-c424-459c-f16f-eada31f246d6",
        "colab": {
          "base_uri": "https://localhost:8080/",
          "height": 102
        }
      },
      "source": [
        "var numbers = [1, 2, 3, 4]\n",
        "\n",
        "numbers.map({(num:Int) in \n",
        "  return num * num            \n",
        "})"
      ],
      "execution_count": 23,
      "outputs": [
        {
          "output_type": "execute_result",
          "data": {
            "text/plain": [
              "▿ 4 elements\n",
              "  - 0 : 1\n",
              "  - 1 : 4\n",
              "  - 2 : 9\n",
              "  - 3 : 16\n"
            ]
          },
          "metadata": {
            "tags": []
          },
          "execution_count": 23
        }
      ]
    },
    {
      "cell_type": "markdown",
      "metadata": {
        "id": "2dXDTcVgM0aj",
        "colab_type": "text"
      },
      "source": [
        "## Operator Overloading"
      ]
    },
    {
      "cell_type": "code",
      "metadata": {
        "id": "3r_t9dTRM3WA",
        "colab_type": "code",
        "outputId": "b0388719-bf17-4c25-914f-1eeeea2289af",
        "colab": {
          "base_uri": "https://localhost:8080/",
          "height": 51
        }
      },
      "source": [
        "struct Vector2D {\n",
        "    var x = 0.0, y = 0.0\n",
        "}\n",
        "\n",
        "extension Vector2D {\n",
        "    static func +(left: Vector2D, right: Vector2D) -> Vector2D {\n",
        "        return Vector2D(x: left.x + right.x, y: left.y + right.y)\n",
        "    }\n",
        "  \n",
        "    static prefix func -(arg: Vector2D) -> Vector2D{\n",
        "      return Vector2D(x: -arg.x, y: -arg.y)\n",
        "    }\n",
        "}\n",
        "\n",
        "var w = Vector2D(x:1.0, y:1.5)\n",
        "var z = Vector2D(x:1.2, y:4.0)\n",
        "\n",
        "print(-w)\n",
        "print(w + z)"
      ],
      "execution_count": 24,
      "outputs": [
        {
          "output_type": "stream",
          "text": [
            "Vector2D(x: -1.0, y: -1.5)\r\n",
            "Vector2D(x: 2.2, y: 5.5)\r\n"
          ],
          "name": "stdout"
        }
      ]
    },
    {
      "cell_type": "markdown",
      "metadata": {
        "id": "BCpWt8IYJbPi",
        "colab_type": "text"
      },
      "source": [
        "## Generics\n",
        "\n",
        "Generics are used to construct generic types. Use `<>` to represent a generic type "
      ]
    },
    {
      "cell_type": "code",
      "metadata": {
        "id": "hzqlVzFeJizO",
        "colab_type": "code",
        "outputId": "4713d5f1-e2b2-4125-a2ad-b4f834351d69",
        "colab": {
          "base_uri": "https://localhost:8080/",
          "height": 187
        }
      },
      "source": [
        "//convert a list of generic type to a dictionary of generic type\n",
        "func makeDict<T>(_ array: [T]) -> [T:T] {\n",
        "  var out = [T:T]()\n",
        "  \n",
        "  \n",
        "  for a in array{\n",
        "    out[a] = a\n",
        "  }\n",
        "  return out\n",
        "}\n",
        "\n",
        "makeDict([2, 3, 4])"
      ],
      "execution_count": 25,
      "outputs": [
        {
          "output_type": "execute_result",
          "data": {
            "text/plain": [
              "▿ 3 elements\n",
              "  ▿ 0 : 2 elements\n",
              "    - key : 4\n",
              "    - value : 4\n",
              "  ▿ 1 : 2 elements\n",
              "    - key : 2\n",
              "    - value : 2\n",
              "  ▿ 2 : 2 elements\n",
              "    - key : 3\n",
              "    - value : 3\n"
            ]
          },
          "metadata": {
            "tags": []
          },
          "execution_count": 25
        }
      ]
    },
    {
      "cell_type": "markdown",
      "metadata": {
        "id": "ifoYXlSLc9np",
        "colab_type": "text"
      },
      "source": [
        "## Python Integeration\n",
        "\n",
        "It is easy to call python modules in Swift"
      ]
    },
    {
      "cell_type": "code",
      "metadata": {
        "id": "GKS7nCmcb1Bo",
        "colab_type": "code",
        "colab": {}
      },
      "source": [
        "import Python\n",
        "let np = Python.import(\"numpy\")"
      ],
      "execution_count": 0,
      "outputs": []
    },
    {
      "cell_type": "code",
      "metadata": {
        "id": "8RHA4_u6dc9S",
        "colab_type": "code",
        "outputId": "32b97321-b58c-465c-b5e3-d07ba9808b44",
        "colab": {
          "base_uri": "https://localhost:8080/",
          "height": 34
        }
      },
      "source": [
        "np.exp(0)"
      ],
      "execution_count": 27,
      "outputs": [
        {
          "output_type": "execute_result",
          "data": {
            "text/plain": [
              "1.0\n"
            ]
          },
          "metadata": {
            "tags": []
          },
          "execution_count": 27
        }
      ]
    },
    {
      "cell_type": "markdown",
      "metadata": {
        "id": "WK9y9eKfaab6",
        "colab_type": "text"
      },
      "source": [
        "## Differentiation\n",
        "\n",
        "We can easily define a differentiable function by using `@differentiable`"
      ]
    },
    {
      "cell_type": "code",
      "metadata": {
        "id": "N1zx_B_VaeRd",
        "colab_type": "code",
        "colab": {}
      },
      "source": [
        "@differentiable\n",
        "func frac(_ x:Double) -> Double{\n",
        "  return 1/x\n",
        "}"
      ],
      "execution_count": 0,
      "outputs": []
    },
    {
      "cell_type": "code",
      "metadata": {
        "id": "E4jvO7Rratfh",
        "colab_type": "code",
        "outputId": "75a9d6fa-81e2-4ddc-fa92-962f9084dec6",
        "colab": {
          "base_uri": "https://localhost:8080/",
          "height": 34
        }
      },
      "source": [
        "gradient(at:0.5) {x in frac(x)}"
      ],
      "execution_count": 29,
      "outputs": [
        {
          "output_type": "execute_result",
          "data": {
            "text/plain": [
              "-4.0\n"
            ]
          },
          "metadata": {
            "tags": []
          },
          "execution_count": 29
        }
      ]
    },
    {
      "cell_type": "markdown",
      "metadata": {
        "id": "DIg0cI_yvaCJ",
        "colab_type": "text"
      },
      "source": [
        "# TenosrFlow"
      ]
    },
    {
      "cell_type": "code",
      "metadata": {
        "id": "YmV1Nk_Nvd2g",
        "colab_type": "code",
        "colab": {}
      },
      "source": [
        "import TensorFlow"
      ],
      "execution_count": 0,
      "outputs": []
    },
    {
      "cell_type": "markdown",
      "metadata": {
        "id": "y_n538Im0_bY",
        "colab_type": "text"
      },
      "source": [
        "## Neural Network (NN)\n",
        "\n",
        "We create a simple XOR classifier example using NN"
      ]
    },
    {
      "cell_type": "markdown",
      "metadata": {
        "id": "p8GpL0gRlZUY",
        "colab_type": "text"
      },
      "source": [
        "### Tensors"
      ]
    },
    {
      "cell_type": "code",
      "metadata": {
        "id": "w7Nq3qUzmLXc",
        "colab_type": "code",
        "colab": {}
      },
      "source": [
        "var X: Tensor<Float> = [[0.0, 0.0], [1.0, 0.0], [0.0, 1.0], [1.0, 1.0]]\n",
        "var y: Tensor<Int32> = [0, 1, 1, 0]"
      ],
      "execution_count": 0,
      "outputs": []
    },
    {
      "cell_type": "markdown",
      "metadata": {
        "id": "W2sICW4PlbsG",
        "colab_type": "text"
      },
      "source": [
        "### Model\n",
        "\n",
        "Create a nerual network with one hidden layer"
      ]
    },
    {
      "cell_type": "code",
      "metadata": {
        "id": "Wk4fHfPun9MS",
        "colab_type": "code",
        "colab": {}
      },
      "source": [
        "let hiddenSize: Int = 10\n",
        "\n",
        "struct NN: Layer {\n",
        "    var layer1 = Dense<Float>(inputSize: 2, outputSize: hiddenSize, activation: relu)\n",
        "    var layer2 = Dense<Float>(inputSize: hiddenSize, outputSize: 2)\n",
        "    \n",
        "    @differentiable\n",
        "    func call(_ input: Tensor<Float>) -> Tensor<Float> {\n",
        "        return input.sequenced(through: layer1, layer2)\n",
        "    }\n",
        "}"
      ],
      "execution_count": 0,
      "outputs": []
    },
    {
      "cell_type": "code",
      "metadata": {
        "id": "Qx5fu_JfpPpz",
        "colab_type": "code",
        "colab": {}
      },
      "source": [
        "var model = NN()\n",
        "let optimizer = SGD(for: model)"
      ],
      "execution_count": 0,
      "outputs": []
    },
    {
      "cell_type": "markdown",
      "metadata": {
        "id": "4t1JAQf8ldme",
        "colab_type": "text"
      },
      "source": [
        "### Training"
      ]
    },
    {
      "cell_type": "code",
      "metadata": {
        "id": "e9zlOYUzpBt6",
        "colab_type": "code",
        "outputId": "3692e0c2-be66-482c-ad1a-0acebd4b75ea",
        "colab": {
          "base_uri": "https://localhost:8080/",
          "height": 204
        }
      },
      "source": [
        "for i in 0...1000 {\n",
        "  \n",
        "  //calculate the loss and gradient\n",
        "  let (loss, grads) = valueWithGradient(at: model) { model -> Tensor<Float> in\n",
        "      let logits = model(X)\n",
        "      return softmaxCrossEntropy(logits: logits, labels: y)\n",
        "  }\n",
        "\n",
        "  //make an optimizer step \n",
        "  optimizer.update(&model.allDifferentiableVariables, along: grads)\n",
        "\n",
        "  if i % 100 == 0 {\n",
        "    print(\"epoch \\(i) train_loss: \\(loss)\")\n",
        "  }\n",
        "  \n",
        "}"
      ],
      "execution_count": 35,
      "outputs": [
        {
          "output_type": "stream",
          "text": [
            "epoch 0 train_loss: 0.7282258\n",
            "epoch 100 train_loss: 0.68459517\n",
            "epoch 200 train_loss: 0.65157473\n",
            "epoch 300 train_loss: 0.61996853\n",
            "epoch 400 train_loss: 0.5887139\n",
            "epoch 500 train_loss: 0.55819345\n",
            "epoch 600 train_loss: 0.5246029\n",
            "epoch 700 train_loss: 0.48887122\n",
            "epoch 800 train_loss: 0.45471245\n",
            "epoch 900 train_loss: 0.42016685\n",
            "epoch 1000 train_loss: 0.38590562\n"
          ],
          "name": "stdout"
        }
      ]
    },
    {
      "cell_type": "markdown",
      "metadata": {
        "id": "1M0r-jWelg-4",
        "colab_type": "text"
      },
      "source": [
        "### Inference"
      ]
    },
    {
      "cell_type": "code",
      "metadata": {
        "id": "uuOb9lVrtS-K",
        "colab_type": "code",
        "outputId": "a99a9a66-e7c3-4872-9917-8d40c1e48b15",
        "colab": {
          "base_uri": "https://localhost:8080/",
          "height": 34
        }
      },
      "source": [
        "// Apply the model to a batch of features.\n",
        "let pred = model(X)\n",
        "\n",
        "print(pred.argmax(squeezingAxis: 1))"
      ],
      "execution_count": 36,
      "outputs": [
        {
          "output_type": "stream",
          "text": [
            "[0, 1, 1, 0]\r\n"
          ],
          "name": "stdout"
        }
      ]
    },
    {
      "cell_type": "markdown",
      "metadata": {
        "id": "Snub2EZdCKKb",
        "colab_type": "text"
      },
      "source": [
        "# References\n",
        "\n",
        "\n",
        "\n",
        "*   https://github.com/tensorflow/swift/blob/master/docs/WhySwiftForTensorFlow.md\n",
        "*   https://www.tensorflow.org/swift\n",
        "*   https://www.tensorflow.org/swift/tutorials/model_training_walkthrough\n",
        "\n"
      ]
    }
  ]
}